{
 "cells": [
  {
   "cell_type": "markdown",
   "metadata": {},
   "source": [
    "## Importing the Libraries"
   ]
  },
  {
   "cell_type": "code",
   "execution_count": 1,
   "metadata": {
    "_cell_guid": "b1076dfc-b9ad-4769-8c92-a6c4dae69d19",
    "_uuid": "8f2839f25d086af736a60e9eeb907d3b93b6e0e5"
   },
   "outputs": [
    {
     "ename": "ModuleNotFoundError",
     "evalue": "No module named 'missingno'",
     "output_type": "error",
     "traceback": [
      "\u001b[1;31m---------------------------------------------------------------------------\u001b[0m",
      "\u001b[1;31mModuleNotFoundError\u001b[0m                       Traceback (most recent call last)",
      "Input \u001b[1;32mIn [1]\u001b[0m, in \u001b[0;36m<cell line: 12>\u001b[1;34m()\u001b[0m\n\u001b[0;32m      9\u001b[0m \u001b[38;5;28;01mimport\u001b[39;00m \u001b[38;5;21;01mseaborn\u001b[39;00m \u001b[38;5;28;01mas\u001b[39;00m \u001b[38;5;21;01msns\u001b[39;00m\n\u001b[0;32m     11\u001b[0m \u001b[38;5;66;03m# for missing values\u001b[39;00m\n\u001b[1;32m---> 12\u001b[0m \u001b[38;5;28;01mimport\u001b[39;00m \u001b[38;5;21;01mmissingno\u001b[39;00m \u001b[38;5;28;01mas\u001b[39;00m \u001b[38;5;21;01mmno\u001b[39;00m\n\u001b[0;32m     14\u001b[0m \u001b[38;5;66;03m# for date time manipulation\u001b[39;00m\n\u001b[0;32m     15\u001b[0m \u001b[38;5;28;01mimport\u001b[39;00m \u001b[38;5;21;01mdatetime\u001b[39;00m\n",
      "\u001b[1;31mModuleNotFoundError\u001b[0m: No module named 'missingno'"
     ]
    }
   ],
   "source": [
    "# basic operations\n",
    "import numpy as np\n",
    "\n",
    "# for dataframe manipulations\n",
    "import pandas as pd \n",
    "\n",
    "# for data visualizations\n",
    "import matplotlib.pyplot as plt\n",
    "import seaborn as sns\n",
    "\n",
    "# for missing values\n",
    "import missingno as mno\n",
    "\n",
    "# for date time manipulation\n",
    "import datetime\n",
    "\n",
    "# for interactivity\n",
    "import ipywidgets as widgets\n",
    "from ipywidgets import interact\n",
    "from ipywidgets import interact_manual\n",
    "\n",
    "# setting up the background style for the plots\n",
    "plt.style.use('fivethirtyeight')"
   ]
  },
  {
   "cell_type": "markdown",
   "metadata": {},
   "source": [
    "**Reading the Data**"
   ]
  },
  {
   "cell_type": "code",
   "execution_count": null,
   "metadata": {
    "_cell_guid": "79c7e3d0-c299-4dcb-8224-4455121ee9b0",
    "_kg_hide-input": true,
    "_kg_hide-output": true,
    "_uuid": "d629ff2d2480ee46fbb7e2d37f6b5fab8052498a"
   },
   "outputs": [],
   "source": [
    "# reading the data and also checking the computation time\n",
    "%time data = pd.read_csv('data.csv')\n",
    "\n",
    "# lets also check the shape of the dataset\n",
    "print(data.shape)"
   ]
  },
  {
   "cell_type": "code",
   "execution_count": null,
   "metadata": {},
   "outputs": [],
   "source": [
    "# lets check the column names present in the data\n",
    "data.columns"
   ]
  },
  {
   "cell_type": "markdown",
   "metadata": {},
   "source": [
    "## Cleaning Data"
   ]
  },
  {
   "cell_type": "code",
   "execution_count": null,
   "metadata": {
    "_kg_hide-output": true,
    "_uuid": "3f57355606acd0f2d0cb6f8c5284731fe15ca729"
   },
   "outputs": [],
   "source": [
    "# checking if the data contains any NULL value\n",
    "# Visualize missing values as a matrix \n",
    "mno.bar(data.iloc[:, :40],\n",
    "        color = 'orange',\n",
    "        sort = 'ascending') \n",
    "plt.title('Checking Missing Values Heat Map for first half of the data', fontsize = 15)\n",
    "plt.show()"
   ]
  },
  {
   "cell_type": "code",
   "execution_count": null,
   "metadata": {},
   "outputs": [],
   "source": [
    "# Visualize missing values as a matrix \n",
    "mno.bar(data.iloc[:, 40:]) \n",
    "plt.title('Checking Missing Values Heat Map for second half of the data')\n",
    "plt.show()"
   ]
  },
  {
   "cell_type": "markdown",
   "metadata": {},
   "source": [
    "### Missing Values Imputation"
   ]
  },
  {
   "cell_type": "code",
   "execution_count": null,
   "metadata": {
    "_uuid": "948344dfd823f2b6caf9abed9f814ca9605f09c6"
   },
   "outputs": [],
   "source": [
    "# filling the missing value for the continous variables for proper data visualization\n",
    "\n",
    "data['ShortPassing'].fillna(data['ShortPassing'].mean(), inplace = True)\n",
    "data['Volleys'].fillna(data['Volleys'].mean(), inplace = True)\n",
    "data['Dribbling'].fillna(data['Dribbling'].mean(), inplace = True)\n",
    "data['Curve'].fillna(data['Curve'].mean(), inplace = True)\n",
    "data['FKAccuracy'].fillna(data['FKAccuracy'], inplace = True)\n",
    "data['LongPassing'].fillna(data['LongPassing'].mean(), inplace = True)\n",
    "data['BallControl'].fillna(data['BallControl'].mean(), inplace = True)\n",
    "data['HeadingAccuracy'].fillna(data['HeadingAccuracy'].mean(), inplace = True)\n",
    "data['Finishing'].fillna(data['Finishing'].mean(), inplace = True)\n",
    "data['Crossing'].fillna(data['Crossing'].mean(), inplace = True)\n",
    "\n",
    "data['Weight'].fillna('200lbs', inplace = True)\n",
    "data['Contract Valid Until'].fillna(2019, inplace = True)\n",
    "data['Height'].fillna(\"5'11\", inplace = True)\n",
    "data['Loaned From'].fillna('None', inplace = True)\n",
    "data['Joined'].fillna('Jul 1, 2018', inplace = True)\n",
    "data['Jersey Number'].fillna(8, inplace = True)\n",
    "data['Body Type'].fillna('Normal', inplace = True)\n",
    "data['Position'].fillna('ST', inplace = True)\n",
    "data['Club'].fillna('No Club', inplace = True)\n",
    "data['Work Rate'].fillna('Medium/ Medium', inplace = True)\n",
    "data['Skill Moves'].fillna(data['Skill Moves'].median(), inplace = True)\n",
    "data['Weak Foot'].fillna(3, inplace = True)\n",
    "data['Preferred Foot'].fillna('Right', inplace = True)\n",
    "data['International Reputation'].fillna(1, inplace = True)\n",
    "data['Wage'].fillna('€200K', inplace = True)"
   ]
  },
  {
   "cell_type": "code",
   "execution_count": null,
   "metadata": {},
   "outputs": [],
   "source": [
    "pd.set_option('max_rows', 100)\n",
    "data.isnull().sum()"
   ]
  },
  {
   "cell_type": "code",
   "execution_count": null,
   "metadata": {},
   "outputs": [],
   "source": [
    "# impute with 0 for rest of the columns\n",
    "data.fillna(0, inplace = True)\n",
    "\n",
    "# lets check whether the data still has any missing values\n",
    "data.isnull().sum().sum()"
   ]
  },
  {
   "cell_type": "markdown",
   "metadata": {},
   "source": [
    "## Feature Engineering"
   ]
  },
  {
   "cell_type": "code",
   "execution_count": null,
   "metadata": {
    "_kg_hide-input": true
   },
   "outputs": [],
   "source": [
    "# creating new features by aggregating the features\n",
    "\n",
    "def defending(data):\n",
    "    return int(round((data[['Marking', 'StandingTackle', \n",
    "                               'SlidingTackle']].mean()).mean()))\n",
    "\n",
    "def general(data):\n",
    "    return int(round((data[['HeadingAccuracy', 'Dribbling', 'Curve', \n",
    "                               'BallControl']].mean()).mean()))\n",
    "\n",
    "def mental(data):\n",
    "    return int(round((data[['Aggression', 'Interceptions', 'Positioning', \n",
    "                               'Vision','Composure']].mean()).mean()))\n",
    "\n",
    "def passing(data):\n",
    "    return int(round((data[['Crossing', 'ShortPassing', \n",
    "                               'LongPassing']].mean()).mean()))\n",
    "\n",
    "def mobility(data):\n",
    "    return int(round((data[['Acceleration', 'SprintSpeed', \n",
    "                               'Agility','Reactions']].mean()).mean()))\n",
    "def power(data):\n",
    "    return int(round((data[['Balance', 'Jumping', 'Stamina', \n",
    "                               'Strength']].mean()).mean()))\n",
    "\n",
    "def rating(data):\n",
    "    return int(round((data[['Potential', 'Overall']].mean()).mean()))\n",
    "\n",
    "def shooting(data):\n",
    "    return int(round((data[['Finishing', 'Volleys', 'FKAccuracy', \n",
    "                               'ShotPower','LongShots', 'Penalties']].mean()).mean()))"
   ]
  },
  {
   "cell_type": "code",
   "execution_count": null,
   "metadata": {},
   "outputs": [],
   "source": [
    "# adding these categories to the data\n",
    "\n",
    "data['Defending'] = data.apply(defending, axis = 1)\n",
    "data['General'] = data.apply(general, axis = 1)\n",
    "data['Mental'] = data.apply(mental, axis = 1)\n",
    "data['Passing'] = data.apply(passing, axis = 1)\n",
    "data['Mobility'] = data.apply(mobility, axis = 1)\n",
    "data['Power'] = data.apply(power, axis = 1)\n",
    "data['Rating'] = data.apply(rating, axis = 1)\n",
    "data['Shooting'] = data.apply(shooting, axis = 1)\n",
    "\n",
    "# lets check the column names in the data after adding new features\n",
    "data.columns"
   ]
  },
  {
   "cell_type": "markdown",
   "metadata": {},
   "source": [
    "## Data Visualization"
   ]
  },
  {
   "cell_type": "code",
   "execution_count": null,
   "metadata": {},
   "outputs": [],
   "source": [
    "# lets check the Distribution of Scores of Different Skills\n",
    "\n",
    "plt.rcParams['figure.figsize'] = (18, 12)\n",
    "plt.subplot(2, 4, 1)\n",
    "sns.distplot(data['Defending'], color = 'red')\n",
    "plt.grid()\n",
    "\n",
    "plt.subplot(2, 4, 2)\n",
    "sns.distplot(data['General'], color = 'black')\n",
    "plt.grid()\n",
    "\n",
    "plt.subplot(2, 4, 3)\n",
    "sns.distplot(data['Mental'], color = 'red')\n",
    "plt.grid()\n",
    "\n",
    "plt.subplot(2, 4, 4)\n",
    "sns.distplot(data['Passing'], color = 'black')\n",
    "plt.grid()\n",
    "\n",
    "plt.subplot(2, 4, 5)\n",
    "sns.distplot(data['Mobility'], color = 'red')\n",
    "plt.grid()\n",
    "\n",
    "plt.subplot(2, 4, 6)\n",
    "sns.distplot(data['Power'], color = 'black')\n",
    "plt.grid()\n",
    "\n",
    "plt.subplot(2, 4, 7)\n",
    "sns.distplot(data['Shooting'], color = 'red')\n",
    "plt.grid()\n",
    "\n",
    "plt.subplot(2, 4, 8)\n",
    "sns.distplot(data['Rating'], color = 'black')\n",
    "plt.grid()\n",
    "\n",
    "plt.suptitle('Score Distributions for Different Abilities')\n",
    "plt.show()"
   ]
  },
  {
   "cell_type": "code",
   "execution_count": null,
   "metadata": {
    "_kg_hide-input": true,
    "_uuid": "23bad3d609d14bfdf5a9160cef97a26816e327b2"
   },
   "outputs": [],
   "source": [
    "# comparison of preferred foot over the different players\n",
    "\n",
    "plt.rcParams['figure.figsize'] = (8, 3)\n",
    "sns.countplot(data['Preferred Foot'], palette = 'pink')\n",
    "plt.title('Most Preferred Foot of the Players', fontsize = 20)\n",
    "plt.show()"
   ]
  },
  {
   "cell_type": "code",
   "execution_count": null,
   "metadata": {
    "_kg_hide-input": true,
    "_uuid": "64d55533400c13697b6c0abe085cba4a24123643"
   },
   "outputs": [],
   "source": [
    "# plotting a pie chart to represent share of international repuatation\n",
    "\n",
    "labels = ['1', '2', '3', '4', '5']  #data['International Reputation'].index\n",
    "sizes = data['International Reputation'].value_counts()\n",
    "colors = plt.cm.copper(np.linspace(0, 1, 5))\n",
    "explode = [0.1, 0.1, 0.2, 0.5, 0.9]\n",
    "\n",
    "plt.rcParams['figure.figsize'] = (9, 9)\n",
    "plt.pie(sizes, labels = labels, colors = colors, explode = explode, shadow = True,)\n",
    "plt.title('International Repuatation for the Football Players', fontsize = 20)\n",
    "plt.legend()\n",
    "plt.show()"
   ]
  },
  {
   "cell_type": "markdown",
   "metadata": {},
   "source": [
    "**Let's check the Players with International Reputation as 5**"
   ]
  },
  {
   "cell_type": "code",
   "execution_count": null,
   "metadata": {},
   "outputs": [],
   "source": [
    "data[data['International Reputation'] == 5][['Name','Nationality',\n",
    "                            'Overall']].sort_values(by = 'Overall',\n",
    "                                        ascending = False).style.background_gradient(cmap = 'magma')"
   ]
  },
  {
   "cell_type": "code",
   "execution_count": null,
   "metadata": {
    "_kg_hide-input": true,
    "_uuid": "0eba9649c42fbff7ff50a1ae148941bb80bbfcbe"
   },
   "outputs": [],
   "source": [
    "# plotting a pie chart to represent the share of week foot players\n",
    "\n",
    "labels = ['5', '4', '3', '2', '1'] \n",
    "size = data['Weak Foot'].value_counts()\n",
    "colors = plt.cm.Wistia(np.linspace(0, 1, 5))\n",
    "explode = [0, 0, 0, 0, 0.1]\n",
    "\n",
    "plt.pie(size, labels = labels, colors = colors, explode = explode, shadow = True, startangle = 90)\n",
    "plt.title('Distribution of Week Foot among Players', fontsize = 25)\n",
    "plt.legend()\n",
    "plt.show()"
   ]
  },
  {
   "cell_type": "code",
   "execution_count": null,
   "metadata": {
    "_kg_hide-input": true,
    "_uuid": "98b4797a163c72ef3309c9eb79c23e1e445daf9d"
   },
   "outputs": [],
   "source": [
    "# different positions acquired by the players \n",
    "\n",
    "plt.figure(figsize = (13, 15))\n",
    "plt.style.use('fivethirtyeight')\n",
    "ax = sns.countplot(y = 'Position', data = data, palette = 'bone')\n",
    "ax.set_xlabel(xlabel = 'Different Positions in Football', fontsize = 16)\n",
    "ax.set_ylabel(ylabel = 'Count of Players', fontsize = 16)\n",
    "ax.set_title(label = 'Comparison of Positions and Players', fontsize = 20)\n",
    "plt.show()"
   ]
  },
  {
   "cell_type": "code",
   "execution_count": null,
   "metadata": {
    "_uuid": "fcec7ec58472a534a3dacda6feaaa8441c96a661"
   },
   "outputs": [],
   "source": [
    "# defining a function for cleaning the Weight data\n",
    "\n",
    "def extract_value_from(value):\n",
    "  out = value.replace('lbs', '')\n",
    "  return float(out)\n",
    "\n",
    "# applying the function to weight column\n",
    "#data['value'] = data['value'].apply(lambda x: extract_value_from(x))\n",
    "data['Weight'] = data['Weight'].apply(lambda x : extract_value_from(x))\n",
    "\n",
    "# plotting the distribution of weight of the players\n",
    "sns.distplot(data['Weight'], color = 'black')\n",
    "plt.title(\"Distribution of Players Weight\", fontsize = 15)\n",
    "plt.show()"
   ]
  },
  {
   "cell_type": "code",
   "execution_count": null,
   "metadata": {
    "_uuid": "7108c697fd5b408931c3fafc9cc69b45a8daa102"
   },
   "outputs": [],
   "source": [
    "# defining a function for cleaning the wage column\n",
    "\n",
    "def extract_value_from(column):\n",
    "    out = column.replace('€', '')\n",
    "    if 'M' in out:\n",
    "        out = float(out.replace('M', ''))*1000000\n",
    "    elif 'K' in column:\n",
    "        out = float(out.replace('K', ''))*1000\n",
    "    return float(out)"
   ]
  },
  {
   "cell_type": "code",
   "execution_count": null,
   "metadata": {
    "_kg_hide-output": true,
    "_uuid": "d25523aa1a1701760fdccfe4d7d1ce9f8647abc3"
   },
   "outputs": [],
   "source": [
    "# applying the function to the wage and value column\n",
    "data['Value'] = data['Value'].apply(lambda x: extract_value_from(x))\n",
    "data['Wage'] = data['Wage'].apply(lambda x: extract_value_from(x))\n",
    "\n",
    "# visualizing the data\n",
    "plt.rcParams['figure.figsize'] = (16, 5)\n",
    "plt.subplot(1, 2, 1)\n",
    "sns.distplot(data['Value'], color = 'violet')\n",
    "plt.title('Distribution of Value of the Players', fontsize = 15)\n",
    "\n",
    "plt.subplot(1, 2, 2)\n",
    "sns.distplot(data['Wage'], color = 'purple')\n",
    "plt.title('Distribution of Wages of the Players', fontsize = 15)\n",
    "plt.show()"
   ]
  },
  {
   "cell_type": "code",
   "execution_count": null,
   "metadata": {
    "_kg_hide-input": true,
    "_uuid": "7a9d0ee706177dfcc982d1ef9344b28d18149d30"
   },
   "outputs": [],
   "source": [
    "# Skill Moves of Players\n",
    "\n",
    "plt.figure(figsize = (10, 6))\n",
    "ax = sns.countplot(x = 'Skill Moves', data = data, palette = 'pastel')\n",
    "ax.set_title(label = 'Count of players on Basis of their skill moves', fontsize = 20)\n",
    "ax.set_xlabel(xlabel = 'Number of Skill Moves', fontsize = 16)\n",
    "ax.set_ylabel(ylabel = 'Count', fontsize = 16)\n",
    "plt.show()"
   ]
  },
  {
   "cell_type": "code",
   "execution_count": null,
   "metadata": {},
   "outputs": [],
   "source": [
    "data[(data['Skill Moves'] == 5.0) & (data['Age'] < 20)][['Name','Age']]"
   ]
  },
  {
   "cell_type": "code",
   "execution_count": null,
   "metadata": {
    "_kg_hide-input": true,
    "_uuid": "f0853d6f021c8a1c30a7fd6fdcd36d693100406f"
   },
   "outputs": [],
   "source": [
    "# To show Different Work rate of the players participating in the FIFA 2019\n",
    "\n",
    "plt.figure(figsize = (15, 5))\n",
    "plt.style.use('fivethirtyeight')\n",
    "\n",
    "sns.countplot(x = 'Work Rate', data = data, palette = 'hls')\n",
    "plt.title('Different work rates of the Players Participating in the FIFA 2019', fontsize = 20)\n",
    "plt.xlabel('Work rates associated with the players', fontsize = 16)\n",
    "plt.ylabel('count of Players', fontsize = 16)\n",
    "plt.xticks(rotation = 90)\n",
    "plt.show()"
   ]
  },
  {
   "cell_type": "code",
   "execution_count": null,
   "metadata": {
    "_kg_hide-input": true,
    "_uuid": "dbb9317d5f8c97de8b0d25a686e8b260f8234727"
   },
   "outputs": [],
   "source": [
    "# To show Different potential scores of the players participating in the FIFA 2019\n",
    "\n",
    "plt.figure(figsize=(16, 4))\n",
    "plt.style.use('seaborn-paper')\n",
    "\n",
    "plt.subplot(1, 2, 1)\n",
    "x = data.Potential\n",
    "ax = sns.distplot(x, bins = 58, kde = False, color = 'y')\n",
    "ax.set_xlabel(xlabel = \"Player's Potential Scores\", fontsize = 10)\n",
    "ax.set_ylabel(ylabel = 'Number of players', fontsize = 10)\n",
    "ax.set_title(label = 'Histogram of players Potential Scores', fontsize = 15)\n",
    "\n",
    "plt.subplot(1, 2, 2)\n",
    "y = data.Overall\n",
    "ax = sns.distplot(y, bins = 58, kde = False, color = 'y')\n",
    "ax.set_xlabel(xlabel = \"Player's Overall Scores\", fontsize = 10)\n",
    "ax.set_ylabel(ylabel = 'Number of players', fontsize = 10)\n",
    "ax.set_title(label = 'Histogram of players Overall Scores', fontsize = 15)\n",
    "plt.show()"
   ]
  },
  {
   "cell_type": "code",
   "execution_count": null,
   "metadata": {
    "_kg_hide-input": true
   },
   "outputs": [],
   "source": [
    "# violin plot \n",
    "\n",
    "plt.rcParams['figure.figsize'] = (20, 7)\n",
    "plt.style.use('seaborn-dark-palette')\n",
    "\n",
    "sns.boxplot(data['Overall'], data['Age'], hue = data['Preferred Foot'], palette = 'Greys')\n",
    "plt.title('Comparison of Overall Scores and age wrt Preferred foot', fontsize = 20)\n",
    "plt.show()"
   ]
  },
  {
   "cell_type": "markdown",
   "metadata": {},
   "source": [
    "**Countries with Most Players**"
   ]
  },
  {
   "cell_type": "code",
   "execution_count": null,
   "metadata": {
    "_kg_hide-input": true,
    "_uuid": "f263376489d015d1903e90e1187cafadbbeb4d7f"
   },
   "outputs": [],
   "source": [
    "# picking up the countries with highest number of players to compare their overall scores\n",
    "\n",
    "data['Nationality'].value_counts().head(10).plot(kind = 'pie', cmap = 'inferno',\n",
    "                                        startangle = 90, explode = [0, 0, 0, 0, 0, 0, 0, 0, 0.1, 0])\n",
    "plt.title('Countries having Highest Number of players', fontsize = 15)\n",
    "plt.axis('off')\n",
    "plt.show()"
   ]
  },
  {
   "cell_type": "code",
   "execution_count": null,
   "metadata": {
    "_kg_hide-input": true,
    "_uuid": "27f73cb879700c38917c21a43a2a1d64a4a36e33"
   },
   "outputs": [],
   "source": [
    "# Every Nations' Player and their Weights\n",
    "\n",
    "some_countries = ('England', 'Germany', 'Spain', 'Argentina', 'France', 'Brazil', 'Italy', 'Columbia')\n",
    "data_countries = data.loc[data['Nationality'].isin(some_countries) & data['Weight']]\n",
    "\n",
    "plt.rcParams['figure.figsize'] = (15, 7)\n",
    "ax = sns.violinplot(x = data_countries['Nationality'], y = data_countries['Weight'], palette = 'Reds')\n",
    "ax.set_xlabel(xlabel = 'Countries', fontsize = 9)\n",
    "ax.set_ylabel(ylabel = 'Weight in lbs', fontsize = 9)\n",
    "ax.set_title(label = 'Distribution of Weight of players from different countries', fontsize = 20)\n",
    "plt.show()"
   ]
  },
  {
   "cell_type": "code",
   "execution_count": null,
   "metadata": {
    "_kg_hide-input": true,
    "_uuid": "3a8194b702171cfb6329f873c5db7397c5b7c960"
   },
   "outputs": [],
   "source": [
    "# Every Nations' Player and their overall scores\n",
    "\n",
    "some_countries = ('England', 'Germany', 'Spain', 'Argentina', 'France', 'Brazil', 'Italy', 'Columbia')\n",
    "data_countries = data.loc[data['Nationality'].isin(some_countries) & data['Overall']]\n",
    "\n",
    "plt.rcParams['figure.figsize'] = (15, 7)\n",
    "ax = sns.barplot(x = data_countries['Nationality'], y = data_countries['Overall'], palette = 'spring')\n",
    "ax.set_xlabel(xlabel = 'Countries', fontsize = 9)\n",
    "ax.set_ylabel(ylabel = 'Overall Scores', fontsize = 9)\n",
    "ax.set_title(label = 'Distribution of overall scores of players from different countries', fontsize = 20)\n",
    "plt.show()"
   ]
  },
  {
   "cell_type": "code",
   "execution_count": null,
   "metadata": {
    "_kg_hide-input": true,
    "_uuid": "25d9aaae5d767e9b2053aaea6146db81b8f86f99"
   },
   "outputs": [],
   "source": [
    "# Every Nations' Player and their wages\n",
    "\n",
    "some_countries = ('England', 'Germany', 'Spain', 'Argentina', 'France', 'Brazil', 'Italy', 'Columbia')\n",
    "data_countries = data.loc[data['Nationality'].isin(some_countries) & data['Wage']]\n",
    "\n",
    "plt.rcParams['figure.figsize'] = (15, 7)\n",
    "ax = sns.barplot(x = data_countries['Nationality'], y = data_countries['Wage'], palette = 'Purples')\n",
    "ax.set_xlabel(xlabel = 'Countries', fontsize = 9)\n",
    "ax.set_ylabel(ylabel = 'Wage', fontsize = 9)\n",
    "ax.set_title(label = 'Distribution of Wages of players from different countries', fontsize = 15)\n",
    "plt.grid()\n",
    "plt.show()"
   ]
  },
  {
   "cell_type": "code",
   "execution_count": null,
   "metadata": {
    "_kg_hide-input": true,
    "_uuid": "d8587ed4b08175aa114a88e7d67985a2937523d2"
   },
   "outputs": [],
   "source": [
    "# Every Nations' Player and their International Reputation\n",
    "\n",
    "some_countries = ('England', 'Germany', 'Spain', 'Argentina', 'France', 'Brazil', 'Italy', 'Columbia')\n",
    "data_countries = data.loc[data['Nationality'].isin(some_countries) & data['International Reputation']]\n",
    "\n",
    "plt.rcParams['figure.figsize'] = (15, 7)\n",
    "ax = sns.boxenplot(x = data_countries['Nationality'], y = data_countries['International Reputation'], palette = 'autumn')\n",
    "ax.set_xlabel(xlabel = 'Countries', fontsize = 9)\n",
    "ax.set_ylabel(ylabel = 'Distribution of reputation', fontsize = 9)\n",
    "ax.set_title(label = 'Distribution of International Repuatation of players from different countries', fontsize = 15)\n",
    "plt.grid()\n",
    "plt.show()"
   ]
  },
  {
   "cell_type": "code",
   "execution_count": null,
   "metadata": {
    "_kg_hide-input": true,
    "_uuid": "c559370cafb3d70ac182cac76d07c9025f043e36"
   },
   "outputs": [],
   "source": [
    "some_clubs = ('CD Leganés', 'Southampton', 'RC Celta', 'Empoli', 'Fortuna Düsseldorf', 'Manchestar City',\n",
    "             'Tottenham Hotspur', 'FC Barcelona', 'Valencia CF', 'Chelsea', 'Real Madrid')\n",
    "\n",
    "data_clubs = data.loc[data['Club'].isin(some_clubs) & data['Overall']]\n",
    "\n",
    "plt.rcParams['figure.figsize'] = (15, 8)\n",
    "ax = sns.boxplot(x = data_clubs['Club'], y = data_clubs['Overall'], palette = 'inferno')\n",
    "ax.set_xlabel(xlabel = 'Some Popular Clubs', fontsize = 9)\n",
    "ax.set_ylabel(ylabel = 'Overall Score', fontsize = 9)\n",
    "ax.set_title(label = 'Distribution of Overall Score in Different popular Clubs', fontsize = 20)\n",
    "plt.xticks(rotation = 90)\n",
    "plt.grid()\n",
    "plt.show()"
   ]
  },
  {
   "cell_type": "code",
   "execution_count": null,
   "metadata": {
    "_kg_hide-input": true,
    "_uuid": "e41032e60b9083146d1e7525afcf493d595f3fba"
   },
   "outputs": [],
   "source": [
    "# Distribution of Ages in some Popular clubs\n",
    "\n",
    "some_clubs = ('CD Leganés', 'Southampton', 'RC Celta', 'Empoli', 'Fortuna Düsseldorf', 'Manchestar City',\n",
    "             'Tottenham Hotspur', 'FC Barcelona', 'Valencia CF', 'Chelsea', 'Real Madrid')\n",
    "\n",
    "data_club = data.loc[data['Club'].isin(some_clubs) & data['Wage']]\n",
    "\n",
    "plt.rcParams['figure.figsize'] = (15, 8)\n",
    "ax = sns.boxenplot(x = 'Club', y = 'Age', data = data_club, palette = 'magma')\n",
    "ax.set_xlabel(xlabel = 'Names of some popular Clubs', fontsize = 10)\n",
    "ax.set_ylabel(ylabel = 'Distribution', fontsize = 10)\n",
    "ax.set_title(label = 'Disstribution of Ages in some Popular Clubs', fontsize = 20)\n",
    "plt.xticks(rotation = 90)\n",
    "plt.grid()\n",
    "plt.show()\n"
   ]
  },
  {
   "cell_type": "code",
   "execution_count": null,
   "metadata": {
    "_kg_hide-input": true,
    "_uuid": "115bcd319a0ffa3444eab39c39b02539a3b03e11"
   },
   "outputs": [],
   "source": [
    "# Distribution of Wages in some Popular clubs\n",
    "\n",
    "some_clubs = ('CD Leganés', 'Southampton', 'RC Celta', 'Empoli', 'Fortuna Düsseldorf', 'Manchestar City',\n",
    "             'Tottenham Hotspur', 'FC Barcelona', 'Valencia CF', 'Chelsea', 'Real Madrid')\n",
    "\n",
    "data_club = data.loc[data['Club'].isin(some_clubs) & data['Wage']]\n",
    "\n",
    "plt.rcParams['figure.figsize'] = (16, 8)\n",
    "ax = sns.boxplot(x = 'Club', y = 'Wage', data = data_club, palette = 'magma')\n",
    "ax.set_xlabel(xlabel = 'Names of some popular Clubs', fontsize = 10)\n",
    "ax.set_ylabel(ylabel = 'Distribution', fontsize = 10)\n",
    "ax.set_title(label = 'Disstribution of Wages in some Popular Clubs', fontsize = 20)\n",
    "plt.xticks(rotation = 90)\n",
    "plt.show()"
   ]
  },
  {
   "cell_type": "code",
   "execution_count": null,
   "metadata": {
    "_kg_hide-input": true,
    "_uuid": "be50755cd308a39a10bc31caa30018ed023f5a7f"
   },
   "outputs": [],
   "source": [
    "# Distribution of Wages in some Popular clubs\n",
    "\n",
    "some_clubs = ('CD Leganés', 'Southampton', 'RC Celta', 'Empoli', 'Fortuna Düsseldorf', 'Manchestar City',\n",
    "             'Tottenham Hotspur', 'FC Barcelona', 'Valencia CF', 'Chelsea', 'Real Madrid')\n",
    "\n",
    "data_club = data.loc[data['Club'].isin(some_clubs) & data['International Reputation']]\n",
    "\n",
    "plt.rcParams['figure.figsize'] = (16, 8)\n",
    "ax = sns.boxenplot(x = 'Club', y = 'International Reputation', data = data_club, palette = 'copper')\n",
    "ax.set_xlabel(xlabel = 'Names of some popular Clubs', fontsize = 10)\n",
    "ax.set_ylabel(ylabel = 'Distribution of Reputation', fontsize = 10)\n",
    "ax.set_title(label = 'Distribution of International Reputation in some Popular Clubs', fontsize = 20)\n",
    "plt.xticks(rotation = 90)\n",
    "plt.grid()\n",
    "plt.show()"
   ]
  },
  {
   "cell_type": "markdown",
   "metadata": {},
   "source": [
    "## Query Analysis"
   ]
  },
  {
   "cell_type": "markdown",
   "metadata": {},
   "source": [
    "**Best Players per each position with their age, club, and nationality based on their Overall Scores**"
   ]
  },
  {
   "cell_type": "code",
   "execution_count": null,
   "metadata": {},
   "outputs": [],
   "source": [
    "# best players per each position with their age, club, and nationality based on their overall scores\n",
    "\n",
    "data.iloc[data.groupby(data['Position'])['Overall'].idxmax()][['Position', 'Name', 'Age', 'Club',\n",
    "                             'Nationality','Overall']].sort_values(by = 'Overall',\n",
    "                                        ascending = False).style.background_gradient(cmap = 'pink')"
   ]
  },
  {
   "cell_type": "markdown",
   "metadata": {},
   "source": [
    "**Best Players for each Skill**"
   ]
  },
  {
   "cell_type": "code",
   "execution_count": null,
   "metadata": {},
   "outputs": [],
   "source": [
    "## Let's Analyze the Skills of Players\n",
    "\n",
    "@interact\n",
    "def skill(skills = ['Defending', 'General', 'Mental', 'Passing', \n",
    "                       'Mobility', 'Power', 'Rating','Shooting'], score = 75):\n",
    "    return data[data[skills] > score][['Name', 'Nationality', 'Club', 'Overall', skills]].sort_values(by = skills,\n",
    "                                    ascending = False).head(20).style.background_gradient(cmap = 'Blues')"
   ]
  },
  {
   "cell_type": "markdown",
   "metadata": {},
   "source": [
    "## Let's make a function to get the list of Top 15 Players from each Country"
   ]
  },
  {
   "cell_type": "code",
   "execution_count": null,
   "metadata": {},
   "outputs": [],
   "source": [
    "# lets make an interactive function for getting a report of the players country wise\n",
    "\n",
    "# lets make a function to see the list of top 15 players from each country\n",
    "@interact\n",
    "def country(country = list(data['Nationality'].value_counts().index)):\n",
    "    return data[data['Nationality'] == country][['Name','Position','Overall',\n",
    "                    'Potential']].sort_values(by = 'Overall',\n",
    "                            ascending = False).head(15).style.background_gradient(cmap = 'magma')"
   ]
  },
  {
   "cell_type": "markdown",
   "metadata": {},
   "source": [
    "## Let's make a function to get the list of Top 15  Players from each Club"
   ]
  },
  {
   "cell_type": "code",
   "execution_count": null,
   "metadata": {},
   "outputs": [],
   "source": [
    "# lets make an interactive function to get the list of top 15 players from each of the club\n",
    "\n",
    "# lets define a function \n",
    "@interact\n",
    "def club(club = list(data['Club'].value_counts().index[1:])):\n",
    "    return data[data['Club'] == club][['Name','Jersey Number','Position','Overall','Nationality','Age','Wage',\n",
    "                     'Value','Contract Valid Until']].sort_values(by = 'Overall',\n",
    "                                ascending  = False).head(15).style.background_gradient(cmap = 'inferno')"
   ]
  },
  {
   "cell_type": "markdown",
   "metadata": {},
   "source": [
    "**youngest Players from the FIFA 2019**"
   ]
  },
  {
   "cell_type": "code",
   "execution_count": null,
   "metadata": {
    "_kg_hide-input": true,
    "_uuid": "7843b5e99872d0d50fc49b0f2fd7e80009a92499"
   },
   "outputs": [],
   "source": [
    "# finding 5 youngest Players from the dataset\n",
    "\n",
    "youngest = data[data['Age'] == 16][['Name', 'Age', 'Club', 'Nationality', 'Overall']]\n",
    "youngest.sort_values(by = 'Overall', ascending = False).head().style.background_gradient(cmap = 'magma')"
   ]
  },
  {
   "cell_type": "markdown",
   "metadata": {},
   "source": [
    "**15 Eldest Players from FIFA 2019**"
   ]
  },
  {
   "cell_type": "code",
   "execution_count": null,
   "metadata": {
    "_uuid": "22af48de422be7057f038a02d562f7f8b8481454"
   },
   "outputs": [],
   "source": [
    "# finding 15 eldest players from the dataset\n",
    "\n",
    "data.sort_values('Age', ascending = False)[['Name', 'Age', 'Club',\n",
    "                              'Nationality', 'Overall']].head(15).style.background_gradient(cmap = 'Wistia')"
   ]
  },
  {
   "cell_type": "markdown",
   "metadata": {},
   "source": [
    "**The longest membership in the club**"
   ]
  },
  {
   "cell_type": "code",
   "execution_count": null,
   "metadata": {
    "_kg_hide-input": true,
    "_uuid": "35f2415e91a27c9d32d59f1446a007e9bbffc586"
   },
   "outputs": [],
   "source": [
    "# The longest membership in the club\n",
    "\n",
    "now = datetime.datetime.now()\n",
    "data['Join_year'] = data.Joined.dropna().map(lambda x: x.split(',')[1].split(' ')[1])\n",
    "data['Years_of_member'] = (data.Join_year.dropna().map(lambda x: now.year - int(x))).astype('int')\n",
    "membership = data[['Name', 'Club', 'Years_of_member']].sort_values(by = 'Years_of_member', ascending = False).head(10)\n",
    "membership.set_index('Name', inplace=True)\n",
    "membership.style.background_gradient(cmap = 'Reds')"
   ]
  },
  {
   "cell_type": "code",
   "execution_count": null,
   "metadata": {},
   "outputs": [],
   "source": [
    "import ipywidgets as widgets\n",
    "from ipywidgets import interact\n",
    "@interact\n",
    "def check(column = 'Years_of_member', \n",
    "          club = ['FC Barcelona', 'Real Madrid', 'Chelsea'], x = 4):\n",
    "    return data[(data[column] > x) & (data['Club'] == club)][['Name', 'Club',\n",
    "                                             'Years_of_member']].sort_values(by = 'Years_of_member',\n",
    "                                                                ascending = False).style.background_gradient(cmap = 'magma')"
   ]
  },
  {
   "cell_type": "markdown",
   "metadata": {},
   "source": [
    "**Defining the features of players**"
   ]
  },
  {
   "cell_type": "code",
   "execution_count": null,
   "metadata": {
    "_kg_hide-input": true,
    "_uuid": "042843d0c54acde3dc8c6af8a4db37f19ddc9377"
   },
   "outputs": [],
   "source": [
    "# defining the features of players\n",
    "\n",
    "player_features = ('Acceleration', 'Aggression', 'Agility', \n",
    "                   'Balance', 'BallControl', 'Composure', \n",
    "                   'Crossing', 'Dribbling', 'FKAccuracy', \n",
    "                   'Finishing', 'GKDiving', 'GKHandling', \n",
    "                   'GKKicking', 'GKPositioning', 'GKReflexes', \n",
    "                   'HeadingAccuracy', 'Interceptions', 'Jumping', \n",
    "                   'LongPassing', 'LongShots', 'Marking', 'Penalties')\n",
    "\n",
    "# Top four features for every position in football\n",
    "\n",
    "for i, val in data.groupby(data['Position'])[player_features].mean().iterrows():\n",
    "    print('Position {}: {}, {}, {}'.format(i, *tuple(val.nlargest(4).index)))"
   ]
  },
  {
   "cell_type": "markdown",
   "metadata": {},
   "source": [
    "**Top 10 left footed footballers**"
   ]
  },
  {
   "cell_type": "code",
   "execution_count": null,
   "metadata": {
    "_kg_hide-input": true,
    "_uuid": "0e14bcaf959e9b8e003fdb04d2d94fecfc418325"
   },
   "outputs": [],
   "source": [
    "# Top 10 left footed footballers\n",
    "\n",
    "data[data['Preferred Foot'] == 'Left'][['Name', 'Age', 'Club',\n",
    "         'Nationality', 'Overall']].sort_values(by = 'Overall',\n",
    "            ascending = False).head(10).style.background_gradient(cmap = 'bone')"
   ]
  },
  {
   "cell_type": "markdown",
   "metadata": {},
   "source": [
    "**Top 10 Right footed footballers**"
   ]
  },
  {
   "cell_type": "code",
   "execution_count": null,
   "metadata": {
    "_kg_hide-input": true,
    "_uuid": "675d345989c6cbb98d94b6a6e9c09777319ea841"
   },
   "outputs": [],
   "source": [
    "# Top 10 Right footed footballers\n",
    "\n",
    "data[data['Preferred Foot'] == 'Right'][['Name', 'Age', 'Club',\n",
    "                    'Nationality', 'Overall']].sort_values(by = 'Overall',\n",
    "                            ascending = False).head(10).style.background_gradient(cmap = 'copper')\n"
   ]
  },
  {
   "cell_type": "code",
   "execution_count": null,
   "metadata": {
    "_kg_hide-input": true,
    "_uuid": "a60a4d8857316fa006e0609edff0df2ef9f175ca"
   },
   "outputs": [],
   "source": [
    "# comparing the performance of left-footed and right-footed footballers\n",
    "# ballcontrol vs dribbing\n",
    "\n",
    "sns.lmplot(x = 'BallControl', y = 'Dribbling', data = data, col = 'Preferred Foot')\n",
    "plt.show()\n"
   ]
  }
 ],
 "metadata": {
  "kernelspec": {
   "display_name": "Python 3 (ipykernel)",
   "language": "python",
   "name": "python3"
  },
  "language_info": {
   "codemirror_mode": {
    "name": "ipython",
    "version": 3
   },
   "file_extension": ".py",
   "mimetype": "text/x-python",
   "name": "python",
   "nbconvert_exporter": "python",
   "pygments_lexer": "ipython3",
   "version": "3.9.12"
  }
 },
 "nbformat": 4,
 "nbformat_minor": 4
}
