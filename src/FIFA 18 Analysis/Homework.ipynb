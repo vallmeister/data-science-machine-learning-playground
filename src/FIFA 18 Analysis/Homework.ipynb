{
 "cells": [
  {
   "cell_type": "code",
   "execution_count": 2,
   "metadata": {},
   "outputs": [],
   "source": [
    "# importing all necessary libraries\n",
    "import numpy as np\n",
    "import pandas as pd\n",
    "\n",
    "import seaborn as sns\n",
    "import matplotlib.pyplot as plt"
   ]
  },
  {
   "cell_type": "code",
   "execution_count": 3,
   "metadata": {},
   "outputs": [
    {
     "data": {
      "text/plain": "(18207, 89)"
     },
     "execution_count": 3,
     "metadata": {},
     "output_type": "execute_result"
    }
   ],
   "source": [
    "# reading the dataset\n",
    "data = pd.read_csv('fifa_players.csv')\n",
    "data.shape"
   ]
  },
  {
   "cell_type": "markdown",
   "metadata": {},
   "source": [
    "### Find the Most Expensive Players whose contracts are going to Expire Soon"
   ]
  },
  {
   "cell_type": "code",
   "execution_count": 10,
   "metadata": {},
   "outputs": [
    {
     "data": {
      "text/plain": "Index(['Unnamed: 0', 'ID', 'Name', 'Age', 'Photo', 'Nationality', 'Flag',\n       'Overall', 'Potential', 'Club', 'Club Logo', 'Value', 'Wage', 'Special',\n       'Preferred Foot', 'International Reputation', 'Weak Foot',\n       'Skill Moves', 'Work Rate', 'Body Type', 'Real Face', 'Position',\n       'Jersey Number', 'Joined', 'Loaned From', 'Contract Valid Until',\n       'Height', 'Weight', 'LS', 'ST', 'RS', 'LW', 'LF', 'CF', 'RF', 'RW',\n       'LAM', 'CAM', 'RAM', 'LM', 'LCM', 'CM', 'RCM', 'RM', 'LWB', 'LDM',\n       'CDM', 'RDM', 'RWB', 'LB', 'LCB', 'CB', 'RCB', 'RB', 'Crossing',\n       'Finishing', 'HeadingAccuracy', 'ShortPassing', 'Volleys', 'Dribbling',\n       'Curve', 'FKAccuracy', 'LongPassing', 'BallControl', 'Acceleration',\n       'SprintSpeed', 'Agility', 'Reactions', 'Balance', 'ShotPower',\n       'Jumping', 'Stamina', 'Strength', 'LongShots', 'Aggression',\n       'Interceptions', 'Positioning', 'Vision', 'Penalties', 'Composure',\n       'Marking', 'StandingTackle', 'SlidingTackle', 'GKDiving', 'GKHandling',\n       'GKKicking', 'GKPositioning', 'GKReflexes', 'Release Clause'],\n      dtype='object')"
     },
     "execution_count": 10,
     "metadata": {},
     "output_type": "execute_result"
    }
   ],
   "source": [
    "# check columns\n",
    "data.columns"
   ]
  },
  {
   "cell_type": "code",
   "execution_count": 41,
   "outputs": [
    {
     "data": {
      "text/plain": "                     Name    Value Contract Valid Until\n0                L. Messi  €110.5M                 2021\n1       Cristiano Ronaldo     €77M                 2022\n2               Neymar Jr  €118.5M                 2022\n3                  De Gea     €72M                 2020\n4            K. De Bruyne    €102M                 2023\n...                   ...      ...                  ...\n18202        J. Lundstram     €60K                 2019\n18203  N. Christoffersson     €60K                 2020\n18204           B. Worman     €60K                 2021\n18205      D. Walker-Rice     €60K                 2019\n18206           G. Nugent     €60K                 2019\n\n[18207 rows x 3 columns]",
      "text/html": "<div>\n<style scoped>\n    .dataframe tbody tr th:only-of-type {\n        vertical-align: middle;\n    }\n\n    .dataframe tbody tr th {\n        vertical-align: top;\n    }\n\n    .dataframe thead th {\n        text-align: right;\n    }\n</style>\n<table border=\"1\" class=\"dataframe\">\n  <thead>\n    <tr style=\"text-align: right;\">\n      <th></th>\n      <th>Name</th>\n      <th>Value</th>\n      <th>Contract Valid Until</th>\n    </tr>\n  </thead>\n  <tbody>\n    <tr>\n      <th>0</th>\n      <td>L. Messi</td>\n      <td>€110.5M</td>\n      <td>2021</td>\n    </tr>\n    <tr>\n      <th>1</th>\n      <td>Cristiano Ronaldo</td>\n      <td>€77M</td>\n      <td>2022</td>\n    </tr>\n    <tr>\n      <th>2</th>\n      <td>Neymar Jr</td>\n      <td>€118.5M</td>\n      <td>2022</td>\n    </tr>\n    <tr>\n      <th>3</th>\n      <td>De Gea</td>\n      <td>€72M</td>\n      <td>2020</td>\n    </tr>\n    <tr>\n      <th>4</th>\n      <td>K. De Bruyne</td>\n      <td>€102M</td>\n      <td>2023</td>\n    </tr>\n    <tr>\n      <th>...</th>\n      <td>...</td>\n      <td>...</td>\n      <td>...</td>\n    </tr>\n    <tr>\n      <th>18202</th>\n      <td>J. Lundstram</td>\n      <td>€60K</td>\n      <td>2019</td>\n    </tr>\n    <tr>\n      <th>18203</th>\n      <td>N. Christoffersson</td>\n      <td>€60K</td>\n      <td>2020</td>\n    </tr>\n    <tr>\n      <th>18204</th>\n      <td>B. Worman</td>\n      <td>€60K</td>\n      <td>2021</td>\n    </tr>\n    <tr>\n      <th>18205</th>\n      <td>D. Walker-Rice</td>\n      <td>€60K</td>\n      <td>2019</td>\n    </tr>\n    <tr>\n      <th>18206</th>\n      <td>G. Nugent</td>\n      <td>€60K</td>\n      <td>2019</td>\n    </tr>\n  </tbody>\n</table>\n<p>18207 rows × 3 columns</p>\n</div>"
     },
     "execution_count": 41,
     "metadata": {},
     "output_type": "execute_result"
    }
   ],
   "source": [
    "# select interesting columns\n",
    "interesting_data = data[['Name', 'Value', 'Contract Valid Until']]\n",
    "interesting_data"
   ],
   "metadata": {
    "collapsed": false
   }
  },
  {
   "cell_type": "code",
   "execution_count": 45,
   "outputs": [
    {
     "data": {
      "text/plain": "                    Name    Value Contract Valid Until\n1      Cristiano Ronaldo     €77M                 2022\n2              Neymar Jr  €118.5M                 2022\n11              T. Kroos   €76.5M                 2022\n15             P. Dybala     €89M                 2022\n18         M. ter Stegen     €58M                 2022\n...                  ...      ...                  ...\n18132         Liu Yaoxin     €40K                 2022\n18141         Chen Yajun     €60K                 2022\n18155          Liu Guobo     €60K                 2022\n18163           Wang Xin     €40K                 2022\n18167             Wu Lei     €40K                 2022\n\n[1477 rows x 3 columns]",
      "text/html": "<div>\n<style scoped>\n    .dataframe tbody tr th:only-of-type {\n        vertical-align: middle;\n    }\n\n    .dataframe tbody tr th {\n        vertical-align: top;\n    }\n\n    .dataframe thead th {\n        text-align: right;\n    }\n</style>\n<table border=\"1\" class=\"dataframe\">\n  <thead>\n    <tr style=\"text-align: right;\">\n      <th></th>\n      <th>Name</th>\n      <th>Value</th>\n      <th>Contract Valid Until</th>\n    </tr>\n  </thead>\n  <tbody>\n    <tr>\n      <th>1</th>\n      <td>Cristiano Ronaldo</td>\n      <td>€77M</td>\n      <td>2022</td>\n    </tr>\n    <tr>\n      <th>2</th>\n      <td>Neymar Jr</td>\n      <td>€118.5M</td>\n      <td>2022</td>\n    </tr>\n    <tr>\n      <th>11</th>\n      <td>T. Kroos</td>\n      <td>€76.5M</td>\n      <td>2022</td>\n    </tr>\n    <tr>\n      <th>15</th>\n      <td>P. Dybala</td>\n      <td>€89M</td>\n      <td>2022</td>\n    </tr>\n    <tr>\n      <th>18</th>\n      <td>M. ter Stegen</td>\n      <td>€58M</td>\n      <td>2022</td>\n    </tr>\n    <tr>\n      <th>...</th>\n      <td>...</td>\n      <td>...</td>\n      <td>...</td>\n    </tr>\n    <tr>\n      <th>18132</th>\n      <td>Liu Yaoxin</td>\n      <td>€40K</td>\n      <td>2022</td>\n    </tr>\n    <tr>\n      <th>18141</th>\n      <td>Chen Yajun</td>\n      <td>€60K</td>\n      <td>2022</td>\n    </tr>\n    <tr>\n      <th>18155</th>\n      <td>Liu Guobo</td>\n      <td>€60K</td>\n      <td>2022</td>\n    </tr>\n    <tr>\n      <th>18163</th>\n      <td>Wang Xin</td>\n      <td>€40K</td>\n      <td>2022</td>\n    </tr>\n    <tr>\n      <th>18167</th>\n      <td>Wu Lei</td>\n      <td>€40K</td>\n      <td>2022</td>\n    </tr>\n  </tbody>\n</table>\n<p>1477 rows × 3 columns</p>\n</div>"
     },
     "execution_count": 45,
     "metadata": {},
     "output_type": "execute_result"
    }
   ],
   "source": [
    "# choose players whose contracts expire in 2022\n",
    "expire_soon = interesting_data.loc[interesting_data['Contract Valid Until'] == '2022']\n",
    "expire_soon"
   ],
   "metadata": {
    "collapsed": false
   }
  },
  {
   "cell_type": "code",
   "execution_count": 46,
   "outputs": [
    {
     "name": "stdout",
     "output_type": "stream",
     "text": [
      "<class 'pandas.core.frame.DataFrame'>\n",
      "Int64Index: 1477 entries, 1 to 18167\n",
      "Data columns (total 3 columns):\n",
      " #   Column                Non-Null Count  Dtype \n",
      "---  ------                --------------  ----- \n",
      " 0   Name                  1477 non-null   object\n",
      " 1   Value                 1477 non-null   object\n",
      " 2   Contract Valid Until  1477 non-null   object\n",
      "dtypes: object(3)\n",
      "memory usage: 46.2+ KB\n"
     ]
    }
   ],
   "source": [
    "# check data types\n",
    "expire_soon.info()"
   ],
   "metadata": {
    "collapsed": false
   }
  },
  {
   "cell_type": "code",
   "execution_count": 47,
   "outputs": [
    {
     "name": "stderr",
     "output_type": "stream",
     "text": [
      "C:\\Users\\Christian\\AppData\\Local\\Temp\\ipykernel_14396\\434151285.py:13: SettingWithCopyWarning: \n",
      "A value is trying to be set on a copy of a slice from a DataFrame.\n",
      "Try using .loc[row_indexer,col_indexer] = value instead\n",
      "\n",
      "See the caveats in the documentation: https://pandas.pydata.org/pandas-docs/stable/user_guide/indexing.html#returning-a-view-versus-a-copy\n",
      "  expire_soon['Value'] = expire_soon['Value'].apply(get_numeric_value)\n"
     ]
    },
    {
     "data": {
      "text/plain": "                  Name        Value Contract Valid Until\n2            Neymar Jr  118500000.0                 2022\n15           P. Dybala   89000000.0                 2022\n25           K. Mbappé   81000000.0                 2022\n1    Cristiano Ronaldo   77000000.0                 2022\n11            T. Kroos   76500000.0                 2022\n30                Isco   73500000.0                 2022\n47           R. Lukaku   62500000.0                 2022\n29          L. Insigne   62000000.0                 2022\n36             G. Bale   60000000.0                 2022\n56      Bernardo Silva   59500000.0                 2022\n18       M. ter Stegen   58000000.0                 2022\n62           R. Varane   50000000.0                 2022\n65       Douglas Costa   46500000.0                 2022\n77         M. Škriniar   46500000.0                 2022\n87        A. Lacazette   45000000.0                 2022\n35             Marcelo   43000000.0                 2022\n155         O. Dembélé   40000000.0                 2022\n88          K. Manolas   37500000.0                 2022\n93          A. Sánchez   37500000.0                 2022\n97          I. Perišić   37500000.0                 2022\n115            N. Süle   36500000.0                 2022\n37           H. Lloris   36000000.0                 2022\n119         Marquinhos   35500000.0                 2022\n101      R. Nainggolan   35500000.0                 2022\n69         Azpilicueta   35000000.0                 2022",
      "text/html": "<div>\n<style scoped>\n    .dataframe tbody tr th:only-of-type {\n        vertical-align: middle;\n    }\n\n    .dataframe tbody tr th {\n        vertical-align: top;\n    }\n\n    .dataframe thead th {\n        text-align: right;\n    }\n</style>\n<table border=\"1\" class=\"dataframe\">\n  <thead>\n    <tr style=\"text-align: right;\">\n      <th></th>\n      <th>Name</th>\n      <th>Value</th>\n      <th>Contract Valid Until</th>\n    </tr>\n  </thead>\n  <tbody>\n    <tr>\n      <th>2</th>\n      <td>Neymar Jr</td>\n      <td>118500000.0</td>\n      <td>2022</td>\n    </tr>\n    <tr>\n      <th>15</th>\n      <td>P. Dybala</td>\n      <td>89000000.0</td>\n      <td>2022</td>\n    </tr>\n    <tr>\n      <th>25</th>\n      <td>K. Mbappé</td>\n      <td>81000000.0</td>\n      <td>2022</td>\n    </tr>\n    <tr>\n      <th>1</th>\n      <td>Cristiano Ronaldo</td>\n      <td>77000000.0</td>\n      <td>2022</td>\n    </tr>\n    <tr>\n      <th>11</th>\n      <td>T. Kroos</td>\n      <td>76500000.0</td>\n      <td>2022</td>\n    </tr>\n    <tr>\n      <th>30</th>\n      <td>Isco</td>\n      <td>73500000.0</td>\n      <td>2022</td>\n    </tr>\n    <tr>\n      <th>47</th>\n      <td>R. Lukaku</td>\n      <td>62500000.0</td>\n      <td>2022</td>\n    </tr>\n    <tr>\n      <th>29</th>\n      <td>L. Insigne</td>\n      <td>62000000.0</td>\n      <td>2022</td>\n    </tr>\n    <tr>\n      <th>36</th>\n      <td>G. Bale</td>\n      <td>60000000.0</td>\n      <td>2022</td>\n    </tr>\n    <tr>\n      <th>56</th>\n      <td>Bernardo Silva</td>\n      <td>59500000.0</td>\n      <td>2022</td>\n    </tr>\n    <tr>\n      <th>18</th>\n      <td>M. ter Stegen</td>\n      <td>58000000.0</td>\n      <td>2022</td>\n    </tr>\n    <tr>\n      <th>62</th>\n      <td>R. Varane</td>\n      <td>50000000.0</td>\n      <td>2022</td>\n    </tr>\n    <tr>\n      <th>65</th>\n      <td>Douglas Costa</td>\n      <td>46500000.0</td>\n      <td>2022</td>\n    </tr>\n    <tr>\n      <th>77</th>\n      <td>M. Škriniar</td>\n      <td>46500000.0</td>\n      <td>2022</td>\n    </tr>\n    <tr>\n      <th>87</th>\n      <td>A. Lacazette</td>\n      <td>45000000.0</td>\n      <td>2022</td>\n    </tr>\n    <tr>\n      <th>35</th>\n      <td>Marcelo</td>\n      <td>43000000.0</td>\n      <td>2022</td>\n    </tr>\n    <tr>\n      <th>155</th>\n      <td>O. Dembélé</td>\n      <td>40000000.0</td>\n      <td>2022</td>\n    </tr>\n    <tr>\n      <th>88</th>\n      <td>K. Manolas</td>\n      <td>37500000.0</td>\n      <td>2022</td>\n    </tr>\n    <tr>\n      <th>93</th>\n      <td>A. Sánchez</td>\n      <td>37500000.0</td>\n      <td>2022</td>\n    </tr>\n    <tr>\n      <th>97</th>\n      <td>I. Perišić</td>\n      <td>37500000.0</td>\n      <td>2022</td>\n    </tr>\n    <tr>\n      <th>115</th>\n      <td>N. Süle</td>\n      <td>36500000.0</td>\n      <td>2022</td>\n    </tr>\n    <tr>\n      <th>37</th>\n      <td>H. Lloris</td>\n      <td>36000000.0</td>\n      <td>2022</td>\n    </tr>\n    <tr>\n      <th>119</th>\n      <td>Marquinhos</td>\n      <td>35500000.0</td>\n      <td>2022</td>\n    </tr>\n    <tr>\n      <th>101</th>\n      <td>R. Nainggolan</td>\n      <td>35500000.0</td>\n      <td>2022</td>\n    </tr>\n    <tr>\n      <th>69</th>\n      <td>Azpilicueta</td>\n      <td>35000000.0</td>\n      <td>2022</td>\n    </tr>\n  </tbody>\n</table>\n</div>"
     },
     "execution_count": 47,
     "metadata": {},
     "output_type": "execute_result"
    }
   ],
   "source": [
    "# since we've only got object types, we need to replace them with numerical values\n",
    "def get_numeric_value(column):\n",
    "    value = column.replace('€', '')\n",
    "    if 'K' in column:\n",
    "        value = float(value.replace('K', '')) * 1000\n",
    "    elif 'M' in column:\n",
    "        value = float(value.replace('M', '')) * 1_000_000\n",
    "    else:\n",
    "        value = float(value)\n",
    "    return value\n",
    "\n",
    "# transform values to numerical data\n",
    "expire_soon['Value'] = expire_soon['Value'].apply(get_numeric_value)\n",
    "\n",
    "# now select top 25 MVPs\n",
    "expire_soon.sort_values(by=['Value'], ascending=False).head(25)"
   ],
   "metadata": {
    "collapsed": false
   }
  },
  {
   "cell_type": "markdown",
   "metadata": {},
   "source": [
    "### Make a Function to Generate a Report for Players"
   ]
  },
  {
   "cell_type": "code",
   "execution_count": null,
   "metadata": {},
   "outputs": [],
   "source": []
  },
  {
   "cell_type": "markdown",
   "metadata": {},
   "source": [
    "### Compare German Footballers with Japanese Footballers"
   ]
  },
  {
   "cell_type": "code",
   "execution_count": null,
   "metadata": {},
   "outputs": [],
   "source": []
  },
  {
   "cell_type": "markdown",
   "metadata": {},
   "source": [
    "### Find the Most Popular Footballers under 20"
   ]
  },
  {
   "cell_type": "code",
   "execution_count": null,
   "metadata": {},
   "outputs": [],
   "source": []
  }
 ],
 "metadata": {
  "kernelspec": {
   "display_name": "Python 3 (ipykernel)",
   "language": "python",
   "name": "python3"
  },
  "language_info": {
   "codemirror_mode": {
    "name": "ipython",
    "version": 3
   },
   "file_extension": ".py",
   "mimetype": "text/x-python",
   "name": "python",
   "nbconvert_exporter": "python",
   "pygments_lexer": "ipython3",
   "version": "3.9.12"
  }
 },
 "nbformat": 4,
 "nbformat_minor": 4
}
