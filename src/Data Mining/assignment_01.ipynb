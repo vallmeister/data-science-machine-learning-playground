{
 "cells": [
  {
   "cell_type": "code",
   "execution_count": 43,
   "outputs": [],
   "source": [
    "import numpy as np\n",
    "import scipy as sc\n",
    "from matplotlib import pyplot as pp"
   ],
   "metadata": {
    "collapsed": false
   }
  },
  {
   "cell_type": "markdown",
   "source": [
    "Whenever we deal with a dataset to solve a particular problem, it is helpful to first analyse the\n",
    "data and extract some information. In this exercise, we are going to take a look at statistical\n",
    "measures which are very basic tools and describe the data by a single number only. However,\n",
    "this does not mean that they are useless or less important than other (more complex) analysis.\n",
    "Every measure conveys a special meaning and must be applied with care since they are also\n",
    "easily misinterpreted."
   ],
   "metadata": {
    "collapsed": false
   }
  },
  {
   "cell_type": "code",
   "execution_count": 39,
   "outputs": [
    {
     "name": "stdout",
     "output_type": "stream",
     "text": [
      "Mode: 5 nominal\n",
      "Arithmetic mean: 8.333333333333334 interval\n",
      "Quantile (x_0.25, x_0.75): (4.25, 8.75) ordinal\n",
      "Median: 5.0 ordinal\n",
      "Range: 24 interval\n",
      "Interquartile Range: 4.5 interval\n",
      "Variance s^2: 62.55555555555554 interval\n",
      "Skewness: 1.3758874673259014 ratio\n",
      "q Skewness: 0.6666666666666666 ratio\n"
     ]
    },
    {
     "name": "stderr",
     "output_type": "stream",
     "text": [
      "C:\\Users\\Christian\\AppData\\Local\\Temp\\ipykernel_13564\\2870678320.py:2: FutureWarning: Unlike other reduction functions (e.g. `skew`, `kurtosis`), the default behavior of `mode` typically preserves the axis it acts along. In SciPy 1.11.0, this behavior will change: the default value of `keepdims` will become False, the `axis` over which the statistic is taken will be eliminated, and the value None will no longer be accepted. Set `keepdims` to True or False to avoid this warning.\n",
      "  mode = sc.stats.mode(x)[0][0]\n"
     ]
    }
   ],
   "source": [
    "x = np.array([5, 4, 10, 1, 5, 25])\n",
    "mode = sc.stats.mode(x)[0][0]\n",
    "print('Mode:', mode, 'nominal')\n",
    "arithmetic_mean = x.mean()\n",
    "print('Arithmetic mean:', arithmetic_mean, 'interval')\n",
    "quantile = (np.quantile(x, 0.25), np.quantile(x, 0.75))\n",
    "print('Quantile (x_0.25, x_0.75):', quantile, 'ordinal')\n",
    "median = np.median(x)\n",
    "print('Median:', median, 'ordinal')\n",
    "range = x.max() - x.min()\n",
    "print('Range:', range, 'interval')\n",
    "iq_range = sc.stats.iqr(x)\n",
    "print('Interquartile Range:', iq_range, 'interval')\n",
    "variance = np.var(x)\n",
    "print('Variance s^2:', variance, 'interval')\n",
    "skewness = sc.stats.skew(x)\n",
    "print('Skewness:', skewness, 'ratio')\n",
    "quartile_skewness = ((quantile[1] - median) - (median - quantile[0])) / (quantile[1] - quantile[0])\n",
    "print('q Skewness:', quartile_skewness, 'ratio')"
   ],
   "metadata": {
    "collapsed": false
   }
  },
  {
   "cell_type": "code",
   "execution_count": 44,
   "outputs": [
    {
     "data": {
      "text/plain": "{'whiskers': [<matplotlib.lines.Line2D at 0x274ad00c850>,\n  <matplotlib.lines.Line2D at 0x274ad00cb20>],\n 'caps': [<matplotlib.lines.Line2D at 0x274ad00cdf0>,\n  <matplotlib.lines.Line2D at 0x274ad6c5100>],\n 'boxes': [<matplotlib.lines.Line2D at 0x274ad00c580>],\n 'medians': [<matplotlib.lines.Line2D at 0x274ad6c53d0>],\n 'fliers': [<matplotlib.lines.Line2D at 0x274ad6c56a0>],\n 'means': []}"
     },
     "execution_count": 44,
     "metadata": {},
     "output_type": "execute_result"
    },
    {
     "data": {
      "text/plain": "<Figure size 640x480 with 1 Axes>",
      "image/png": "[encoded data removed]"
     },
     "metadata": {},
     "output_type": "display_data"
    }
   ],
   "source": [
    "pp.boxplot(x)"
   ],
   "metadata": {
    "collapsed": false
   }
  },
  {
   "cell_type": "code",
   "execution_count": null,
   "outputs": [],
   "source": [],
   "metadata": {
    "collapsed": false
   }
  }
 ],
 "metadata": {
  "kernelspec": {
   "display_name": "Python 3",
   "language": "python",
   "name": "python3"
  },
  "language_info": {
   "codemirror_mode": {
    "name": "ipython",
    "version": 2
   },
   "file_extension": ".py",
   "mimetype": "text/x-python",
   "name": "python",
   "nbconvert_exporter": "python",
   "pygments_lexer": "ipython2",
   "version": "2.7.6"
  }
 },
 "nbformat": 4,
 "nbformat_minor": 0
}
