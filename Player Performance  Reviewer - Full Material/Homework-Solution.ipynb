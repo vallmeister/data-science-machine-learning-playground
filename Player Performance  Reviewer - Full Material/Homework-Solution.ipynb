{
 "cells": [
  {
   "cell_type": "code",
   "execution_count": 43,
   "metadata": {},
   "outputs": [],
   "source": [
    "# importing all necessary libraries\n",
    "import numpy as np\n",
    "import pandas as pd\n",
    "\n",
    "import seaborn as sns\n",
    "import matplotlib.pyplot as plt"
   ]
  },
  {
   "cell_type": "code",
   "execution_count": 44,
   "metadata": {},
   "outputs": [
    {
     "data": {
      "text/plain": [
       "(18207, 89)"
      ]
     },
     "execution_count": 44,
     "metadata": {},
     "output_type": "execute_result"
    }
   ],
   "source": [
    "# reading the dataset\n",
    "data = pd.read_csv('data.csv')\n",
    "data.shape"
   ]
  },
  {
   "cell_type": "code",
   "execution_count": 45,
   "metadata": {},
   "outputs": [
    {
     "data": {
      "text/plain": [
       "Index(['Unnamed: 0', 'ID', 'Name', 'Age', 'Photo', 'Nationality', 'Flag',\n",
       "       'Overall', 'Potential', 'Club', 'Club Logo', 'Value', 'Wage', 'Special',\n",
       "       'Preferred Foot', 'International Reputation', 'Weak Foot',\n",
       "       'Skill Moves', 'Work Rate', 'Body Type', 'Real Face', 'Position',\n",
       "       'Jersey Number', 'Joined', 'Loaned From', 'Contract Valid Until',\n",
       "       'Height', 'Weight', 'LS', 'ST', 'RS', 'LW', 'LF', 'CF', 'RF', 'RW',\n",
       "       'LAM', 'CAM', 'RAM', 'LM', 'LCM', 'CM', 'RCM', 'RM', 'LWB', 'LDM',\n",
       "       'CDM', 'RDM', 'RWB', 'LB', 'LCB', 'CB', 'RCB', 'RB', 'Crossing',\n",
       "       'Finishing', 'HeadingAccuracy', 'ShortPassing', 'Volleys', 'Dribbling',\n",
       "       'Curve', 'FKAccuracy', 'LongPassing', 'BallControl', 'Acceleration',\n",
       "       'SprintSpeed', 'Agility', 'Reactions', 'Balance', 'ShotPower',\n",
       "       'Jumping', 'Stamina', 'Strength', 'LongShots', 'Aggression',\n",
       "       'Interceptions', 'Positioning', 'Vision', 'Penalties', 'Composure',\n",
       "       'Marking', 'StandingTackle', 'SlidingTackle', 'GKDiving', 'GKHandling',\n",
       "       'GKKicking', 'GKPositioning', 'GKReflexes', 'Release Clause'],\n",
       "      dtype='object')"
      ]
     },
     "execution_count": 45,
     "metadata": {},
     "output_type": "execute_result"
    }
   ],
   "source": [
    "# lets also check the columns in the data\n",
    "data.columns"
   ]
  },
  {
   "cell_type": "markdown",
   "metadata": {},
   "source": [
    "### Find the Most Expensive Players whose contracts are going to Expire Soon"
   ]
  },
  {
   "cell_type": "code",
   "execution_count": 46,
   "metadata": {},
   "outputs": [
    {
     "data": {
      "text/html": [
       "<div>\n",
       "<style scoped>\n",
       "    .dataframe tbody tr th:only-of-type {\n",
       "        vertical-align: middle;\n",
       "    }\n",
       "\n",
       "    .dataframe tbody tr th {\n",
       "        vertical-align: top;\n",
       "    }\n",
       "\n",
       "    .dataframe thead th {\n",
       "        text-align: right;\n",
       "    }\n",
       "</style>\n",
       "<table border=\"1\" class=\"dataframe\">\n",
       "  <thead>\n",
       "    <tr style=\"text-align: right;\">\n",
       "      <th></th>\n",
       "      <th>Name</th>\n",
       "      <th>Nationality</th>\n",
       "      <th>Club</th>\n",
       "      <th>Age</th>\n",
       "      <th>Wage</th>\n",
       "    </tr>\n",
       "  </thead>\n",
       "  <tbody>\n",
       "    <tr>\n",
       "      <th>6</th>\n",
       "      <td>L. Modrić</td>\n",
       "      <td>Croatia</td>\n",
       "      <td>Real Madrid</td>\n",
       "      <td>32</td>\n",
       "      <td>420000.0</td>\n",
       "    </tr>\n",
       "    <tr>\n",
       "      <th>8</th>\n",
       "      <td>Sergio Ramos</td>\n",
       "      <td>Spain</td>\n",
       "      <td>Real Madrid</td>\n",
       "      <td>32</td>\n",
       "      <td>380000.0</td>\n",
       "    </tr>\n",
       "    <tr>\n",
       "      <th>5</th>\n",
       "      <td>E. Hazard</td>\n",
       "      <td>Belgium</td>\n",
       "      <td>Chelsea</td>\n",
       "      <td>27</td>\n",
       "      <td>340000.0</td>\n",
       "    </tr>\n",
       "    <tr>\n",
       "      <th>13</th>\n",
       "      <td>David Silva</td>\n",
       "      <td>Spain</td>\n",
       "      <td>Manchester City</td>\n",
       "      <td>32</td>\n",
       "      <td>285000.0</td>\n",
       "    </tr>\n",
       "    <tr>\n",
       "      <th>3</th>\n",
       "      <td>De Gea</td>\n",
       "      <td>Spain</td>\n",
       "      <td>Manchester United</td>\n",
       "      <td>27</td>\n",
       "      <td>260000.0</td>\n",
       "    </tr>\n",
       "    <tr>\n",
       "      <th>49</th>\n",
       "      <td>Jordi Alba</td>\n",
       "      <td>Spain</td>\n",
       "      <td>FC Barcelona</td>\n",
       "      <td>29</td>\n",
       "      <td>250000.0</td>\n",
       "    </tr>\n",
       "    <tr>\n",
       "      <th>24</th>\n",
       "      <td>G. Chiellini</td>\n",
       "      <td>Italy</td>\n",
       "      <td>Juventus</td>\n",
       "      <td>33</td>\n",
       "      <td>215000.0</td>\n",
       "    </tr>\n",
       "    <tr>\n",
       "      <th>31</th>\n",
       "      <td>C. Eriksen</td>\n",
       "      <td>Denmark</td>\n",
       "      <td>Tottenham Hotspur</td>\n",
       "      <td>26</td>\n",
       "      <td>205000.0</td>\n",
       "    </tr>\n",
       "    <tr>\n",
       "      <th>21</th>\n",
       "      <td>E. Cavani</td>\n",
       "      <td>Uruguay</td>\n",
       "      <td>Paris Saint-Germain</td>\n",
       "      <td>31</td>\n",
       "      <td>200000.0</td>\n",
       "    </tr>\n",
       "    <tr>\n",
       "      <th>46</th>\n",
       "      <td>K. Navas</td>\n",
       "      <td>Costa Rica</td>\n",
       "      <td>Real Madrid</td>\n",
       "      <td>31</td>\n",
       "      <td>195000.0</td>\n",
       "    </tr>\n",
       "  </tbody>\n",
       "</table>\n",
       "</div>"
      ],
      "text/plain": [
       "            Name Nationality                 Club  Age      Wage\n",
       "6      L. Modrić     Croatia          Real Madrid   32  420000.0\n",
       "8   Sergio Ramos       Spain          Real Madrid   32  380000.0\n",
       "5      E. Hazard     Belgium              Chelsea   27  340000.0\n",
       "13   David Silva       Spain      Manchester City   32  285000.0\n",
       "3         De Gea       Spain    Manchester United   27  260000.0\n",
       "49    Jordi Alba       Spain         FC Barcelona   29  250000.0\n",
       "24  G. Chiellini       Italy             Juventus   33  215000.0\n",
       "31    C. Eriksen     Denmark    Tottenham Hotspur   26  205000.0\n",
       "21     E. Cavani     Uruguay  Paris Saint-Germain   31  200000.0\n",
       "46      K. Navas  Costa Rica          Real Madrid   31  195000.0"
      ]
     },
     "execution_count": 46,
     "metadata": {},
     "output_type": "execute_result"
    }
   ],
   "source": [
    "import warnings\n",
    "warnings.filterwarnings('ignore')\n",
    "\n",
    "# we have to filter players whose contracts are going to be valid till 2020 only.\n",
    "x = data[data['Contract Valid Until'] == \"2020\"]\n",
    "\n",
    "# defining a function for cleaning the wage column\n",
    "def extract_value_from(column):\n",
    "    out = column.replace('€', '')\n",
    "    if 'M' in out:\n",
    "        out = float(out.replace('M', ''))*1000000\n",
    "    elif 'K' in column:\n",
    "        out = float(out.replace('K', ''))*1000\n",
    "    return float(out)\n",
    "\n",
    "# applying the function to the wage column so that we can sort the highest paid footballers\n",
    "x['Wage'] = x['Wage'].apply(extract_value_from)\n",
    "\n",
    "# Now we have to sort those players who are highest paid\n",
    "x[['Name','Nationality','Club','Age', 'Wage']].sort_values(by = 'Wage', ascending = False).head(10)"
   ]
  },
  {
   "cell_type": "markdown",
   "metadata": {},
   "source": [
    "### Make a Function to Generate a Report for Players"
   ]
  },
  {
   "cell_type": "code",
   "execution_count": 54,
   "metadata": {},
   "outputs": [
    {
     "data": {
      "text/html": [
       "<div>\n",
       "<style scoped>\n",
       "    .dataframe tbody tr th:only-of-type {\n",
       "        vertical-align: middle;\n",
       "    }\n",
       "\n",
       "    .dataframe tbody tr th {\n",
       "        vertical-align: top;\n",
       "    }\n",
       "\n",
       "    .dataframe thead th {\n",
       "        text-align: right;\n",
       "    }\n",
       "</style>\n",
       "<table border=\"1\" class=\"dataframe\">\n",
       "  <thead>\n",
       "    <tr style=\"text-align: right;\">\n",
       "      <th></th>\n",
       "      <th>0</th>\n",
       "    </tr>\n",
       "  </thead>\n",
       "  <tbody>\n",
       "    <tr>\n",
       "      <th>Nationality</th>\n",
       "      <td>Argentina</td>\n",
       "    </tr>\n",
       "    <tr>\n",
       "      <th>Club</th>\n",
       "      <td>FC Barcelona</td>\n",
       "    </tr>\n",
       "    <tr>\n",
       "      <th>Overall</th>\n",
       "      <td>94</td>\n",
       "    </tr>\n",
       "    <tr>\n",
       "      <th>Potential</th>\n",
       "      <td>94</td>\n",
       "    </tr>\n",
       "    <tr>\n",
       "      <th>Contract Valid Until</th>\n",
       "      <td>2021</td>\n",
       "    </tr>\n",
       "    <tr>\n",
       "      <th>Wage</th>\n",
       "      <td>€565K</td>\n",
       "    </tr>\n",
       "    <tr>\n",
       "      <th>International Reputation</th>\n",
       "      <td>5</td>\n",
       "    </tr>\n",
       "  </tbody>\n",
       "</table>\n",
       "</div>"
      ],
      "text/plain": [
       "                                     0\n",
       "Nationality                  Argentina\n",
       "Club                      FC Barcelona\n",
       "Overall                             94\n",
       "Potential                           94\n",
       "Contract Valid Until              2021\n",
       "Wage                             €565K\n",
       "International Reputation             5"
      ]
     },
     "execution_count": 54,
     "metadata": {},
     "output_type": "execute_result"
    }
   ],
   "source": [
    "def report(player):\n",
    "    return data[data['Name'] == player][['Nationality','Club',\n",
    "                                         'Overall','Potential',\n",
    "                                         'Contract Valid Until','Wage',\n",
    "                                        'International Reputation']].reset_index(drop = True).T\n",
    "\n",
    "report('L. Messi')"
   ]
  },
  {
   "cell_type": "markdown",
   "metadata": {},
   "source": [
    "### Compare Indian Footballers with Russian Footballers"
   ]
  },
  {
   "cell_type": "code",
   "execution_count": 56,
   "metadata": {},
   "outputs": [
    {
     "data": {
      "text/html": [
       "<style  type=\"text/css\" >\n",
       "#T_4aa5b812_17c1_11eb_aea8_b46d83e4183erow0_col0,#T_4aa5b812_17c1_11eb_aea8_b46d83e4183erow0_col1{\n",
       "            background-color:  #000000;\n",
       "            color:  #f1f1f1;\n",
       "        }#T_4aa5b812_17c1_11eb_aea8_b46d83e4183erow1_col0,#T_4aa5b812_17c1_11eb_aea8_b46d83e4183erow1_col1{\n",
       "            background-color:  #ffc77f;\n",
       "            color:  #000000;\n",
       "        }</style><table id=\"T_4aa5b812_17c1_11eb_aea8_b46d83e4183e\" ><thead>    <tr>        <th class=\"blank level0\" ></th>        <th class=\"col_heading level0 col0\" >Overall</th>        <th class=\"col_heading level0 col1\" >Potential</th>    </tr>    <tr>        <th class=\"index_name level0\" >Nationality</th>        <th class=\"blank\" ></th>        <th class=\"blank\" ></th>    </tr></thead><tbody>\n",
       "                <tr>\n",
       "                        <th id=\"T_4aa5b812_17c1_11eb_aea8_b46d83e4183elevel0_row0\" class=\"row_heading level0 row0\" >India</th>\n",
       "                        <td id=\"T_4aa5b812_17c1_11eb_aea8_b46d83e4183erow0_col0\" class=\"data row0 col0\" >58.666667</td>\n",
       "                        <td id=\"T_4aa5b812_17c1_11eb_aea8_b46d83e4183erow0_col1\" class=\"data row0 col1\" >63.600000</td>\n",
       "            </tr>\n",
       "            <tr>\n",
       "                        <th id=\"T_4aa5b812_17c1_11eb_aea8_b46d83e4183elevel0_row1\" class=\"row_heading level0 row1\" >Russia</th>\n",
       "                        <td id=\"T_4aa5b812_17c1_11eb_aea8_b46d83e4183erow1_col0\" class=\"data row1 col0\" >70.063291</td>\n",
       "                        <td id=\"T_4aa5b812_17c1_11eb_aea8_b46d83e4183erow1_col1\" class=\"data row1 col1\" >75.341772</td>\n",
       "            </tr>\n",
       "    </tbody></table>"
      ],
      "text/plain": [
       "<pandas.io.formats.style.Styler at 0x23814f5eda0>"
      ]
     },
     "execution_count": 56,
     "metadata": {},
     "output_type": "execute_result"
    }
   ],
   "source": [
    "# lets first filter all the Russian and Indian Footballers\n",
    "x = data[(data['Nationality'] == 'Russia') | (data['Nationality'] == 'India')]\n",
    "\n",
    "# now let's group this datasets based on nationality and aggregate on Potential and Overall Scores\n",
    "x[['Nationality','Overall','Potential']].groupby(['Nationality']).agg('mean').style.background_gradient(cmap = 'copper')"
   ]
  },
  {
   "cell_type": "markdown",
   "metadata": {},
   "source": [
    "### Find the Most Popular Footballers under 20"
   ]
  },
  {
   "cell_type": "code",
   "execution_count": 58,
   "metadata": {},
   "outputs": [
    {
     "data": {
      "text/html": [
       "<style  type=\"text/css\" >\n",
       "#T_9589bb78_17c1_11eb_b939_b46d83e4183erow0_col1,#T_9589bb78_17c1_11eb_b939_b46d83e4183erow0_col2,#T_9589bb78_17c1_11eb_b939_b46d83e4183erow1_col1,#T_9589bb78_17c1_11eb_b939_b46d83e4183erow3_col1,#T_9589bb78_17c1_11eb_b939_b46d83e4183erow4_col1,#T_9589bb78_17c1_11eb_b939_b46d83e4183erow7_col1,#T_9589bb78_17c1_11eb_b939_b46d83e4183erow8_col1,#T_9589bb78_17c1_11eb_b939_b46d83e4183erow9_col1{\n",
       "            background-color:  #ffc77f;\n",
       "            color:  #000000;\n",
       "        }#T_9589bb78_17c1_11eb_b939_b46d83e4183erow1_col2{\n",
       "            background-color:  #4a2f1e;\n",
       "            color:  #f1f1f1;\n",
       "        }#T_9589bb78_17c1_11eb_b939_b46d83e4183erow2_col1,#T_9589bb78_17c1_11eb_b939_b46d83e4183erow6_col1{\n",
       "            background-color:  #9e6440;\n",
       "            color:  #000000;\n",
       "        }#T_9589bb78_17c1_11eb_b939_b46d83e4183erow2_col2{\n",
       "            background-color:  #40291a;\n",
       "            color:  #f1f1f1;\n",
       "        }#T_9589bb78_17c1_11eb_b939_b46d83e4183erow3_col2{\n",
       "            background-color:  #291a10;\n",
       "            color:  #f1f1f1;\n",
       "        }#T_9589bb78_17c1_11eb_b939_b46d83e4183erow4_col2{\n",
       "            background-color:  #160e09;\n",
       "            color:  #f1f1f1;\n",
       "        }#T_9589bb78_17c1_11eb_b939_b46d83e4183erow5_col1,#T_9589bb78_17c1_11eb_b939_b46d83e4183erow9_col2{\n",
       "            background-color:  #000000;\n",
       "            color:  #f1f1f1;\n",
       "        }#T_9589bb78_17c1_11eb_b939_b46d83e4183erow5_col2{\n",
       "            background-color:  #140c08;\n",
       "            color:  #f1f1f1;\n",
       "        }#T_9589bb78_17c1_11eb_b939_b46d83e4183erow6_col2{\n",
       "            background-color:  #060402;\n",
       "            color:  #f1f1f1;\n",
       "        }#T_9589bb78_17c1_11eb_b939_b46d83e4183erow7_col2,#T_9589bb78_17c1_11eb_b939_b46d83e4183erow8_col2{\n",
       "            background-color:  #040201;\n",
       "            color:  #f1f1f1;\n",
       "        }</style><table id=\"T_9589bb78_17c1_11eb_b939_b46d83e4183e\" ><thead>    <tr>        <th class=\"blank level0\" ></th>        <th class=\"col_heading level0 col0\" >Name</th>        <th class=\"col_heading level0 col1\" >Age</th>        <th class=\"col_heading level0 col2\" >Value</th>    </tr></thead><tbody>\n",
       "                <tr>\n",
       "                        <th id=\"T_9589bb78_17c1_11eb_b939_b46d83e4183elevel0_row0\" class=\"row_heading level0 row0\" >25</th>\n",
       "                        <td id=\"T_9589bb78_17c1_11eb_b939_b46d83e4183erow0_col0\" class=\"data row0 col0\" >K. Mbappé</td>\n",
       "                        <td id=\"T_9589bb78_17c1_11eb_b939_b46d83e4183erow0_col1\" class=\"data row0 col1\" >19</td>\n",
       "                        <td id=\"T_9589bb78_17c1_11eb_b939_b46d83e4183erow0_col2\" class=\"data row0 col2\" >81000000.000000</td>\n",
       "            </tr>\n",
       "            <tr>\n",
       "                        <th id=\"T_9589bb78_17c1_11eb_b939_b46d83e4183elevel0_row1\" class=\"row_heading level0 row1\" >229</th>\n",
       "                        <td id=\"T_9589bb78_17c1_11eb_b939_b46d83e4183erow1_col0\" class=\"data row1 col0\" >G. Donnarumma</td>\n",
       "                        <td id=\"T_9589bb78_17c1_11eb_b939_b46d83e4183erow1_col1\" class=\"data row1 col1\" >19</td>\n",
       "                        <td id=\"T_9589bb78_17c1_11eb_b939_b46d83e4183erow1_col2\" class=\"data row1 col2\" >29000000.000000</td>\n",
       "            </tr>\n",
       "            <tr>\n",
       "                        <th id=\"T_9589bb78_17c1_11eb_b939_b46d83e4183elevel0_row2\" class=\"row_heading level0 row2\" >226</th>\n",
       "                        <td id=\"T_9589bb78_17c1_11eb_b939_b46d83e4183erow2_col0\" class=\"data row2 col0\" >M. de Ligt</td>\n",
       "                        <td id=\"T_9589bb78_17c1_11eb_b939_b46d83e4183erow2_col1\" class=\"data row2 col1\" >18</td>\n",
       "                        <td id=\"T_9589bb78_17c1_11eb_b939_b46d83e4183erow2_col2\" class=\"data row2 col2\" >27000000.000000</td>\n",
       "            </tr>\n",
       "            <tr>\n",
       "                        <th id=\"T_9589bb78_17c1_11eb_b939_b46d83e4183elevel0_row3\" class=\"row_heading level0 row3\" >413</th>\n",
       "                        <td id=\"T_9589bb78_17c1_11eb_b939_b46d83e4183erow3_col0\" class=\"data row3 col0\" >K. Havertz</td>\n",
       "                        <td id=\"T_9589bb78_17c1_11eb_b939_b46d83e4183erow3_col1\" class=\"data row3 col1\" >19</td>\n",
       "                        <td id=\"T_9589bb78_17c1_11eb_b939_b46d83e4183erow3_col2\" class=\"data row3 col2\" >22000000.000000</td>\n",
       "            </tr>\n",
       "            <tr>\n",
       "                        <th id=\"T_9589bb78_17c1_11eb_b939_b46d83e4183elevel0_row4\" class=\"row_heading level0 row4\" >570</th>\n",
       "                        <td id=\"T_9589bb78_17c1_11eb_b939_b46d83e4183erow4_col0\" class=\"data row4 col0\" >C. Pulisic</td>\n",
       "                        <td id=\"T_9589bb78_17c1_11eb_b939_b46d83e4183erow4_col1\" class=\"data row4 col1\" >19</td>\n",
       "                        <td id=\"T_9589bb78_17c1_11eb_b939_b46d83e4183erow4_col2\" class=\"data row4 col2\" >18000000.000000</td>\n",
       "            </tr>\n",
       "            <tr>\n",
       "                        <th id=\"T_9589bb78_17c1_11eb_b939_b46d83e4183elevel0_row5\" class=\"row_heading level0 row5\" >1143</th>\n",
       "                        <td id=\"T_9589bb78_17c1_11eb_b939_b46d83e4183erow5_col0\" class=\"data row5 col0\" >Vinícius Júnior</td>\n",
       "                        <td id=\"T_9589bb78_17c1_11eb_b939_b46d83e4183erow5_col1\" class=\"data row5 col1\" >17</td>\n",
       "                        <td id=\"T_9589bb78_17c1_11eb_b939_b46d83e4183erow5_col2\" class=\"data row5 col2\" >17500000.000000</td>\n",
       "            </tr>\n",
       "            <tr>\n",
       "                        <th id=\"T_9589bb78_17c1_11eb_b939_b46d83e4183elevel0_row6\" class=\"row_heading level0 row6\" >1004</th>\n",
       "                        <td id=\"T_9589bb78_17c1_11eb_b939_b46d83e4183erow6_col0\" class=\"data row6 col0\" >J. Sancho</td>\n",
       "                        <td id=\"T_9589bb78_17c1_11eb_b939_b46d83e4183erow6_col1\" class=\"data row6 col1\" >18</td>\n",
       "                        <td id=\"T_9589bb78_17c1_11eb_b939_b46d83e4183erow6_col2\" class=\"data row6 col2\" >14500000.000000</td>\n",
       "            </tr>\n",
       "            <tr>\n",
       "                        <th id=\"T_9589bb78_17c1_11eb_b939_b46d83e4183elevel0_row7\" class=\"row_heading level0 row7\" >734</th>\n",
       "                        <td id=\"T_9589bb78_17c1_11eb_b939_b46d83e4183erow7_col0\" class=\"data row7 col0\" >A. Lafont</td>\n",
       "                        <td id=\"T_9589bb78_17c1_11eb_b939_b46d83e4183erow7_col1\" class=\"data row7 col1\" >19</td>\n",
       "                        <td id=\"T_9589bb78_17c1_11eb_b939_b46d83e4183erow7_col2\" class=\"data row7 col2\" >14000000.000000</td>\n",
       "            </tr>\n",
       "            <tr>\n",
       "                        <th id=\"T_9589bb78_17c1_11eb_b939_b46d83e4183elevel0_row8\" class=\"row_heading level0 row8\" >735</th>\n",
       "                        <td id=\"T_9589bb78_17c1_11eb_b939_b46d83e4183erow8_col0\" class=\"data row8 col0\" >T. Alexander-Arnold</td>\n",
       "                        <td id=\"T_9589bb78_17c1_11eb_b939_b46d83e4183erow8_col1\" class=\"data row8 col1\" >19</td>\n",
       "                        <td id=\"T_9589bb78_17c1_11eb_b939_b46d83e4183erow8_col2\" class=\"data row8 col2\" >14000000.000000</td>\n",
       "            </tr>\n",
       "            <tr>\n",
       "                        <th id=\"T_9589bb78_17c1_11eb_b939_b46d83e4183elevel0_row9\" class=\"row_heading level0 row9\" >1110</th>\n",
       "                        <td id=\"T_9589bb78_17c1_11eb_b939_b46d83e4183erow9_col0\" class=\"data row9 col0\" >D. Upamecano</td>\n",
       "                        <td id=\"T_9589bb78_17c1_11eb_b939_b46d83e4183erow9_col1\" class=\"data row9 col1\" >19</td>\n",
       "                        <td id=\"T_9589bb78_17c1_11eb_b939_b46d83e4183erow9_col2\" class=\"data row9 col2\" >13000000.000000</td>\n",
       "            </tr>\n",
       "    </tbody></table>"
      ],
      "text/plain": [
       "<pandas.io.formats.style.Styler at 0x2381548d588>"
      ]
     },
     "execution_count": 58,
     "metadata": {},
     "output_type": "execute_result"
    }
   ],
   "source": [
    "# lets first filter all the under 20 players and then sort with their Values\n",
    "\n",
    "x = data[data['Age'] < 20]\n",
    "\n",
    "# defining a function for cleaning the wage column\n",
    "def extract_value_from(column):\n",
    "    out = column.replace('€', '')\n",
    "    if 'M' in out:\n",
    "        out = float(out.replace('M', ''))*1000000\n",
    "    elif 'K' in column:\n",
    "        out = float(out.replace('K', ''))*1000\n",
    "    return float(out)\n",
    "\n",
    "# applying the function to the wage column so that we can sort the highest paid footballers\n",
    "x['Value'] = x['Value'].apply(extract_value_from)\n",
    "\n",
    "x[['Name','Age','Value']].sort_values(by = 'Value', ascending = False).head(10).style.background_gradient(cmap = 'copper')"
   ]
  }
 ],
 "metadata": {
  "kernelspec": {
   "display_name": "Python 3 (ipykernel)",
   "language": "python",
   "name": "python3"
  },
  "language_info": {
   "codemirror_mode": {
    "name": "ipython",
    "version": 3
   },
   "file_extension": ".py",
   "mimetype": "text/x-python",
   "name": "python",
   "nbconvert_exporter": "python",
   "pygments_lexer": "ipython3",
   "version": "3.9.12"
  }
 },
 "nbformat": 4,
 "nbformat_minor": 4
}
